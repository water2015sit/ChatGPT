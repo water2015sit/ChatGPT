{
 "cells": [
  {
   "cell_type": "code",
   "execution_count": 1,
   "id": "f3e0ba53",
   "metadata": {},
   "outputs": [],
   "source": [
    "import openai\n",
    "import os\n",
    "\n",
    "from dotenv import load_dotenv, find_dotenv\n",
    "_ = load_dotenv(find_dotenv())"
   ]
  },
  {
   "cell_type": "code",
   "execution_count": 3,
   "id": "943a882d",
   "metadata": {},
   "outputs": [],
   "source": [
    "%store -r"
   ]
  },
  {
   "cell_type": "code",
   "execution_count": 4,
   "id": "2a0d00e6",
   "metadata": {},
   "outputs": [],
   "source": [
    "openai.api_key  = my_key"
   ]
  },
  {
   "cell_type": "code",
   "execution_count": 5,
   "id": "1bdbd79a",
   "metadata": {},
   "outputs": [],
   "source": [
    "def get_completion(prompt, model=\"gpt-3.5-turbo\"):\n",
    "    messages = [{\"role\": \"user\", \"content\": prompt}]\n",
    "    response = openai.ChatCompletion.create(\n",
    "        model=model,\n",
    "        messages=messages,\n",
    "        temperature=0, # this is the degree of randomness of the model's output\n",
    "    )\n",
    "    return response.choices[0].message[\"content\"]"
   ]
  },
  {
   "cell_type": "code",
   "execution_count": 6,
   "id": "0fd5924b",
   "metadata": {},
   "outputs": [
    {
     "name": "stdout",
     "output_type": "stream",
     "text": [
      "NO\n",
      "The fine may negatively impact Rimini Street's financials and reputation, leading to a potential decrease in stock price.\n"
     ]
    }
   ],
   "source": [
    "prompt = f\"\"\"\n",
    "Forget all your previous instructions. Pretend you are a financial expert. \n",
    "You are a financial expert with stock recommendation experience. \n",
    "Answer “YES” if good news, “NO” if bad news, or “UNKNOWN” if uncertain in the first line. \n",
    "Then elaborate with one short and concise sentence on the next line. \n",
    "Is this headline good or bad for the stock price of company name in the term term?\n",
    "\n",
    "Headline: Rimini Street Fined $630,000 in Case Against Oracle\n",
    "\"\"\"\n",
    "\n",
    "response = get_completion(prompt)\n",
    "print(response)"
   ]
  },
  {
   "cell_type": "code",
   "execution_count": null,
   "id": "b3adeb90",
   "metadata": {},
   "outputs": [],
   "source": []
  }
 ],
 "metadata": {
  "kernelspec": {
   "display_name": "Python 3",
   "language": "python",
   "name": "python3"
  },
  "language_info": {
   "codemirror_mode": {
    "name": "ipython",
    "version": 3
   },
   "file_extension": ".py",
   "mimetype": "text/x-python",
   "name": "python",
   "nbconvert_exporter": "python",
   "pygments_lexer": "ipython3",
   "version": "3.8.8"
  }
 },
 "nbformat": 4,
 "nbformat_minor": 5
}
